{
 "cells": [
  {
   "cell_type": "code",
   "execution_count": null,
   "metadata": {},
   "outputs": [],
   "source": [
    "import re\n",
    "import questionary\n",
    "import requests\n",
    "import pandas as pd\n",
    "\n",
    "\n",
    "# from prisma import Prisma\n",
    "from bs4 import BeautifulSoup as bs\n",
    "from rich.padding import Padding\n",
    "from rich.progress import track\n",
    "from rich import print\n",
    "from rich.console import Console\n",
    "from rich.markdown import Markdown\n",
    "\n",
    "# disbale ssl warnings\n",
    "requests.packages.urllib3.disable_warnings()\n",
    "# promp libraries\n",
    "\n",
    "pd.set_option(\"display.max_rows\", 500)\n",
    "pd.set_option(\"display.max_colwidth\", 200)\n",
    "\n",
    "MARKDOWN = \"\"\"\n",
    "# Benventi al gestionale di aforismi (un programma x tuo padre series 🤩)\n",
    "\n",
    "Questo script lavora nel sito ==frasicelebri==: \n",
    "\n",
    "- scraping sulle pagine del sito frasicelebri\n",
    "- visualizza le citazioni\n",
    "- inserimento nel database (da fare)\n",
    "\n",
    "---\n",
    "\"\"\"\n",
    "\n",
    "FRASI_CELEBRI_NAME = \"frasicelebri.it\"\n",
    "FRASI_CELEBRI_URL = url = \"https://www.frasicelebri.it/frasi-di/\"\n",
    "AUTHOR_URL = \"\"\n",
    "\n",
    "console = Console()\n",
    "md = Markdown(MARKDOWN)\n",
    "console.print(md)"
   ]
  },
  {
   "cell_type": "code",
   "execution_count": null,
   "metadata": {},
   "outputs": [],
   "source": [
    "# Get frasicelebri authors list\n",
    "df = pd.read_csv(\"./frasi_celebri_authors.csv\")\n",
    "authors_list = df[\"name\"].values.tolist()\n",
    "authors_list"
   ]
  },
  {
   "cell_type": "code",
   "execution_count": 17,
   "metadata": {},
   "outputs": [
    {
     "data": {
      "text/plain": [
       "'Abraham Abe Rosenthal'"
      ]
     },
     "execution_count": 17,
     "metadata": {},
     "output_type": "execute_result"
    }
   ],
   "source": [
    "author_0 = df[\"name\"][0]\n",
    "author_0_row = df[df[\"name\"] == author_0]\n",
    "author_0_row[\"href\"].values[0]"
   ]
  },
  {
   "cell_type": "code",
   "execution_count": 19,
   "metadata": {},
   "outputs": [
    {
     "data": {
      "text/plain": [
       "'/frasi-di/abraham-abe-rosenthal/'"
      ]
     },
     "execution_count": 19,
     "metadata": {},
     "output_type": "execute_result"
    }
   ],
   "source": [
    "\n",
    "author_0_href = df.loc[df[\"name\"] == df[\"name\"][0], \"href\"].values[0]\n",
    "author_0_href"
   ]
  },
  {
   "cell_type": "code",
   "execution_count": null,
   "metadata": {},
   "outputs": [],
   "source": [
    "row_alice = df[df[\"Name\"] == \"Alice\"]"
   ]
  },
  {
   "cell_type": "code",
   "execution_count": null,
   "metadata": {},
   "outputs": [],
   "source": [
    "def keyword_search(items, keyword):\n",
    "    pattern = re.compile(keyword, re.IGNORECASE)\n",
    "    authors = [item for item in items if pattern.search(item)]\n",
    "    return authors\n",
    "\n",
    "\n",
    "def select_author():\n",
    "    while True:\n",
    "        # Keyword to search for\n",
    "        keyword = questionary.text(\n",
    "            \"inserisci il nome dell'autore o una parola chiave\"\n",
    "        ).ask()\n",
    "        matching_items = keyword_search(authors_list, keyword)\n",
    "        author_selected = questionary.select(\n",
    "            \"Scegli l'autore dalla lista\",\n",
    "            choices=matching_items,\n",
    "        ).ask()\n",
    "        author = author_selected.lower().replace(\" \", \"-\")\n",
    "        author_url = FRASI_CELEBRI_URL + author\n",
    "        print(Padding(f\"la pagina autore e' {author_url} \", (1, 2), style=\"on blue\"))\n",
    "\n",
    "        if questionary.text(\"Procedere?\").ask():\n",
    "            response = requests.get(author_url, verify=False)\n",
    "            if response.ok:\n",
    "                requests.get(author_url, verify=False)\n",
    "                soup = bs(response.text, \"html.parser\")\n",
    "                get_author_quotes(soup, author_url)\n",
    "            else:\n",
    "                print(\n",
    "                    Padding(\n",
    "                        (f\"l{author_url} non e' valido o la pagina e' diversa\"),\n",
    "                        (1, 2),\n",
    "                        style=\"on red\",\n",
    "                    )\n",
    "                )\n",
    "        if not questionary.confirm(\"Vuoi scegliere un altro autore?\").ask():\n",
    "            break\n",
    "\n",
    "\n",
    "def get_author_quotes(soup, author_url):\n",
    "    if soup.select_one(\".fc-pagination ul li.last-page a\"):\n",
    "        element = soup.select_one(\".fc-pagination ul li.last-page a\")\n",
    "        last_page_number = element.text if element else None\n",
    "        more_pages = bool(element)\n",
    "    else:\n",
    "        print(\"nessuna citazione trovata\")\n",
    "\n",
    "    if more_pages:\n",
    "        if questionary.confirm(\n",
    "            f\"procedere con lo scraping dell'autore.Sono presenti {last_page_number} pagine \"\n",
    "        ).ask():\n",
    "            get_multi_page_quotes(author_url, last_page_number)\n",
    "    else:\n",
    "        if questionary.confirm(\"Procedere con lo scraping?\").ask():\n",
    "            get_single_page_quotes(author_url)\n",
    "\n",
    "\n",
    "def get_single_page_quotes(author_url):\n",
    "    page_text = requests.get(author_url, verify=False).text\n",
    "    blockquotes = bs(page_text, features=\"html.parser\").select(\"blockquote.clearfix\")\n",
    "    quotes = []\n",
    "    for quote in track(blockquotes, description=\"Fetching quotes...\"):\n",
    "        quotes.append(quote.select_one(\"span.whole-read-more\").text)\n",
    "\n",
    "    if questionary.confirm(\"Visualizzare le citazioni dell'autore?\").ask():\n",
    "        print(pd.DataFrame(quotes))\n",
    "\n",
    "\n",
    "def get_multi_page_quotes(author_url, last_page_number):\n",
    "    author_pages = [\n",
    "        f\"{author_url}/?page={i}\" for i in range(1, int(last_page_number) + 1)\n",
    "    ]\n",
    "    # display author page urls\n",
    "    console.print(author_pages)\n",
    "    pages_text = [\n",
    "        requests.get(page, verify=False).text\n",
    "        for page in track(author_pages, description=\"collecting pages pages\")\n",
    "    ]\n",
    "    blockquotes = [\n",
    "        (bs(page, features=\"html.parser\").select(\"blockquote.clearfix\"))\n",
    "        for page in pages_text\n",
    "    ]\n",
    "    quotes = []\n",
    "    for blockquote in blockquotes:\n",
    "        for quote in track(blockquote):\n",
    "            selected_quote = quote.select_one(\"span.whole-read-more\")\n",
    "            if selected_quote:\n",
    "                quotes.append(selected_quote.text)\n",
    "\n",
    "    if questionary.confirm(\"Visualizzare le citazioni dell'autore?\").ask():\n",
    "        print(pd.DataFrame(quotes))\n",
    "\n",
    "\n",
    "select_author()"
   ]
  }
 ],
 "metadata": {
  "kernelspec": {
   "display_name": "base",
   "language": "python",
   "name": "python3"
  },
  "language_info": {
   "codemirror_mode": {
    "name": "ipython",
    "version": 3
   },
   "file_extension": ".py",
   "mimetype": "text/x-python",
   "name": "python",
   "nbconvert_exporter": "python",
   "pygments_lexer": "ipython3",
   "version": "3.10.14"
  }
 },
 "nbformat": 4,
 "nbformat_minor": 2
}
