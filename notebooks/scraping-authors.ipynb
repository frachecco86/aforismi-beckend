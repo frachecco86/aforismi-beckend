{
 "cells": [
  {
   "cell_type": "code",
   "execution_count": null,
   "metadata": {},
   "outputs": [],
   "source": [
    "import requests\n",
    "import pandas as pd\n",
    "from bs4 import BeautifulSoup as bs\n",
    "import string\n",
    "from rich.progress import track\n",
    "import questionary\n",
    "\n",
    "requests.packages.urllib3.disable_warnings()"
   ]
  },
  {
   "cell_type": "code",
   "execution_count": null,
   "metadata": {},
   "outputs": [],
   "source": [
    "# Generate URLs for each letter\n",
    "urls = [\n",
    "    f\"https://www.frasicelebri.it/indice/autori/{letter}\"\n",
    "    for letter in string.ascii_lowercase\n",
    "]\n",
    "# Scrape and collect authors' names\n",
    "authors_names = []\n",
    "authors_hrefs = []"
   ]
  },
  {
   "cell_type": "code",
   "execution_count": null,
   "metadata": {},
   "outputs": [],
   "source": [
    "soup = bs(requests.get(urls[0], verify=False).text, \"html.parser\")\n",
    "# for a in soup.select(\"#authors-index > h2 ~ a\"):\n",
    "#     print(a.text)\n",
    "for a in soup.select(\"#authors-index > h2 ~ a[href]\"):\n",
    "    print(a[\"href\"])"
   ]
  },
  {
   "cell_type": "code",
   "execution_count": 10,
   "metadata": {},
   "outputs": [
    {
     "data": {
      "text/html": [
       "<pre style=\"white-space:pre;overflow-x:auto;line-height:normal;font-family:Menlo,'DejaVu Sans Mono',consolas,'Courier New',monospace\">/Users/fchecco/miniforge3/lib/python3.10/site-packages/rich/live.py:231: UserWarning: install \"ipywidgets\" for \n",
       "Jupyter support\n",
       "  warnings.warn('install \"ipywidgets\" for Jupyter support')\n",
       "</pre>\n"
      ],
      "text/plain": [
       "/Users/fchecco/miniforge3/lib/python3.10/site-packages/rich/live.py:231: UserWarning: install \"ipywidgets\" for \n",
       "Jupyter support\n",
       "  warnings.warn('install \"ipywidgets\" for Jupyter support')\n"
      ]
     },
     "metadata": {},
     "output_type": "display_data"
    },
    {
     "data": {
      "text/html": [
       "<pre style=\"white-space:pre;overflow-x:auto;line-height:normal;font-family:Menlo,'DejaVu Sans Mono',consolas,'Courier New',monospace\"></pre>\n"
      ],
      "text/plain": []
     },
     "metadata": {},
     "output_type": "display_data"
    },
    {
     "data": {
      "text/html": [
       "<pre style=\"white-space:pre;overflow-x:auto;line-height:normal;font-family:Menlo,'DejaVu Sans Mono',consolas,'Courier New',monospace\">\n",
       "</pre>\n"
      ],
      "text/plain": [
       "\n"
      ]
     },
     "metadata": {},
     "output_type": "display_data"
    },
    {
     "data": {
      "text/html": [
       "<pre style=\"white-space:pre;overflow-x:auto;line-height:normal;font-family:Menlo,'DejaVu Sans Mono',consolas,'Courier New',monospace\"></pre>\n"
      ],
      "text/plain": []
     },
     "metadata": {},
     "output_type": "display_data"
    },
    {
     "data": {
      "text/html": [
       "<pre style=\"white-space:pre;overflow-x:auto;line-height:normal;font-family:Menlo,'DejaVu Sans Mono',consolas,'Courier New',monospace\">\n",
       "</pre>\n"
      ],
      "text/plain": [
       "\n"
      ]
     },
     "metadata": {},
     "output_type": "display_data"
    },
    {
     "name": "stdout",
     "output_type": "stream",
     "text": [
      "                    name                              href\n",
      "0  Abraham Abe Rosenthal  /frasi-di/abraham-abe-rosenthal/\n",
      "1    Antonia Susan Byatt    /frasi-di/antonia-susan-byatt/\n",
      "2                Aaliyah  /frasi-di/aaliyah-dana-haughton/\n",
      "3         Caroline Aaron         /frasi-di/caroline-aaron/\n",
      "4             Hank Aaron      /frasi-di/henry-louis-aaron/\n"
     ]
    }
   ],
   "source": [
    "# for url in track(urls):\n",
    "#     soup = bs(requests.get(url, verify=False).text, \"html.parser\")\n",
    "#     authors_names.extend([a.text for a in soup.select(\"#authors-index > h2 ~ a\")])\n",
    "#     authors_hrefs.extend(\n",
    "#         [a[\"href\"] for a in soup.select(\"#authors-index > h2 ~ a[href]\")]\n",
    "authors = []\n",
    "for url in urls[:2]:\n",
    "    soup = bs(requests.get(url, verify=False).text, \"html.parser\")\n",
    "\n",
    "    for a in track(soup.select(\"#authors-index > h2 ~ a\")):\n",
    "        name = a.text\n",
    "        href = a[\"href\"]\n",
    "        authors.append({\"name\": name, \"href\": href})\n",
    "print(pd.DataFrame(authors).head())"
   ]
  },
  {
   "cell_type": "code",
   "execution_count": null,
   "metadata": {},
   "outputs": [],
   "source": [
    "df = pd.DataFrame(authors)\n",
    "if questionary.text(\"Visualizzare il dataframe\").ask:\n",
    "    print(df)"
   ]
  }
 ],
 "metadata": {
  "kernelspec": {
   "display_name": "base",
   "language": "python",
   "name": "python3"
  },
  "language_info": {
   "codemirror_mode": {
    "name": "ipython",
    "version": 3
   },
   "file_extension": ".py",
   "mimetype": "text/x-python",
   "name": "python",
   "nbconvert_exporter": "python",
   "pygments_lexer": "ipython3",
   "version": "3.10.14"
  }
 },
 "nbformat": 4,
 "nbformat_minor": 2
}
