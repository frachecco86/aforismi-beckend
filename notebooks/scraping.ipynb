{
 "cells": [
  {
   "cell_type": "code",
   "execution_count": null,
   "metadata": {},
   "outputs": [],
   "source": [
    "%pip install prisma"
   ]
  },
  {
   "cell_type": "code",
   "execution_count": null,
   "metadata": {},
   "outputs": [],
   "source": [
    "!prisma db push"
   ]
  },
  {
   "cell_type": "code",
   "execution_count": null,
   "metadata": {},
   "outputs": [],
   "source": [
    "import requests\n",
    "\n",
    "requests.packages.urllib3.disable_warnings()\n",
    "# headers = {'User-Agent': 'Mozilla/5.0 (Windows NT 10.0; Win64; x64) AppleWebKit/537.36 (KHTML, like Gecko) Chrome/89.0.4389.82 Safari/537.36'}\n",
    "\n",
    "from bs4 import BeautifulSoup as bs"
   ]
  },
  {
   "cell_type": "code",
   "execution_count": null,
   "metadata": {},
   "outputs": [],
   "source": [
    "author_name = \"roberto-benigni\"\n",
    "url = f\"https://www.frasicelebri.it/frasi-di/{author_name}\""
   ]
  },
  {
   "cell_type": "markdown",
   "metadata": {},
   "source": []
  },
  {
   "cell_type": "code",
   "execution_count": null,
   "metadata": {},
   "outputs": [],
   "source": [
    "try:\n",
    "    response = requests.get(url, verify=False)\n",
    "    response.raise_for_status()  # Raise an exception for non-200 status codes\n",
    "except requests.exceptions.RequestException as e:\n",
    "    print(f\"Error fetching page: {e}\")\n",
    "\n",
    "soup = bs(response.text, \"html.parser\")\n",
    "\n",
    "last_page_number = soup.select_one(\".fc-pagination ul li.last-page a\").text"
   ]
  },
  {
   "cell_type": "code",
   "execution_count": null,
   "metadata": {},
   "outputs": [],
   "source": [
    "author_pages = [f\"{url}/?page={i}\" for i in range(1, int(last_page_number))]\n",
    "pages_text = [requests.get(page, verify=False).text for page in author_pages]"
   ]
  },
  {
   "cell_type": "code",
   "execution_count": null,
   "metadata": {},
   "outputs": [],
   "source": [
    "blockquotes = [(bs(page).select(\"blockquote.clearfix\")) for page in pages_text]"
   ]
  },
  {
   "cell_type": "code",
   "execution_count": null,
   "metadata": {},
   "outputs": [],
   "source": [
    "for blockquote in blockquotes:\n",
    "    quotes = [(quote.select_one(\"span.whole-read-more\").text) for quote in blockquote]"
   ]
  },
  {
   "cell_type": "code",
   "execution_count": null,
   "metadata": {},
   "outputs": [],
   "source": [
    "quotes"
   ]
  },
  {
   "cell_type": "markdown",
   "metadata": {},
   "source": [
    "### insert quotes in database\n"
   ]
  },
  {
   "cell_type": "code",
   "execution_count": null,
   "metadata": {},
   "outputs": [],
   "source": [
    "import asyncio\n",
    "\n",
    "from prisma import Prisma\n",
    "\n",
    "db = Prisma()\n",
    "await db.connect()"
   ]
  },
  {
   "cell_type": "code",
   "execution_count": 39,
   "metadata": {},
   "outputs": [
    {
     "name": "stdout",
     "output_type": "stream",
     "text": [
      "roberto- non esiste\n"
     ]
    }
   ],
   "source": [
    "author_name = \"roberto-\"\n",
    "# Check if author  exist in the website\n",
    "author = await db.author.find_unique(\n",
    "    where={\"name\": author_name},\n",
    "    include={\n",
    "        \"quotes\": True,\n",
    "    },\n",
    ")\n",
    "\n",
    "\n",
    "if author:\n",
    "    # pr author existe create author in db\n",
    "    print(\"autore presente\")\n",
    "else:\n",
    "    print(f\"{author_name} non esiste\")"
   ]
  },
  {
   "cell_type": "code",
   "execution_count": null,
   "metadata": {},
   "outputs": [],
   "source": [
    "author = await db.author.create({\"name\": author_name})"
   ]
  },
  {
   "cell_type": "code",
   "execution_count": 31,
   "metadata": {},
   "outputs": [
    {
     "data": {
      "text/plain": [
       "'“- Arbore: Mi hanno parlato di un toscano, mi pare un fiorentino, che vende un sacco di milioni e milioni e milioni di copie da tanto tempo in tutto il mondo con un libro che parla pure di morti, di aldilà, di cose...di cadaveri...di inferno, purgatorio...- Benigni: Dante!- Arbore: No! Un nome più... più.. Alghero.. una cosa così...- Benigni:...” (continua)'"
      ]
     },
     "execution_count": 31,
     "metadata": {},
     "output_type": "execute_result"
    }
   ],
   "source": [
    "quote = await db.quote.upsert(\n",
    "    where={\n",
    "        \"text\": quotes[2],\n",
    "    },\n",
    "    data={\n",
    "        \"create\": {\n",
    "            \"text\": quotes[2],\n",
    "        },\n",
    "        \"update\": {},\n",
    "    },\n",
    ")\n",
    "quote.text"
   ]
  },
  {
   "cell_type": "code",
   "execution_count": null,
   "metadata": {},
   "outputs": [],
   "source": [
    "quote = await db.quote.create(\n",
    "    {\n",
    "        \"text\": quote,\n",
    "        \"author\": {\n",
    "            \"connect\": {\n",
    "                \"id\": author.id,\n",
    "            }\n",
    "        },\n",
    "    }\n",
    ")"
   ]
  }
 ],
 "metadata": {
  "kernelspec": {
   "display_name": "Python 3 (ipykernel)",
   "language": "python",
   "name": "python3"
  },
  "language_info": {
   "codemirror_mode": {
    "name": "ipython",
    "version": 3
   },
   "file_extension": ".py",
   "mimetype": "text/x-python",
   "name": "python",
   "nbconvert_exporter": "python",
   "pygments_lexer": "ipython3",
   "version": "3.10.13"
  }
 },
 "nbformat": 4,
 "nbformat_minor": 4
}
